{
 "cells": [
  {
   "cell_type": "code",
   "execution_count": 1,
   "metadata": {
    "collapsed": true
   },
   "outputs": [],
   "source": [
    "import requests\n",
    "import json\n",
    "import re\n",
    "import operator"
   ]
  },
  {
   "cell_type": "code",
   "execution_count": 2,
   "metadata": {
    "collapsed": true
   },
   "outputs": [],
   "source": [
    "draft_group_url = 'https://api.draftkings.com/draftgroups/v1/draftgroups/' \n",
    "draft_tables_suffix = '/draftables?format=json'\n",
    "base_url = 'https://www.draftkings.com'\n",
    "contest_suffix = '/lobby/getcontests'\n",
    "get_available_players_suffix = '/lineup/getavailableplayers'\n",
    "BASKETBALL = \"?sport=nba\"\n",
    "HOCKEY = \"?sport=nhl\""
   ]
  },
  {
   "cell_type": "code",
   "execution_count": 3,
   "metadata": {
    "collapsed": true
   },
   "outputs": [],
   "source": [
    "red_eye = False\n",
    "sport = HOCKEY"
   ]
  },
  {
   "cell_type": "code",
   "execution_count": 4,
   "metadata": {
    "collapsed": true
   },
   "outputs": [],
   "source": [
    "def fixPlayerName(name):\n",
    "    return re.sub('([^\\s\\w]|_)+', '', name)"
   ]
  },
  {
   "cell_type": "code",
   "execution_count": 5,
   "metadata": {
    "collapsed": true
   },
   "outputs": [],
   "source": [
    "response = requests.get(base_url + contest_suffix + sport)"
   ]
  },
  {
   "cell_type": "code",
   "execution_count": 6,
   "metadata": {
    "collapsed": true
   },
   "outputs": [],
   "source": [
    "data = json.loads(response.text)"
   ]
  },
  {
   "cell_type": "code",
   "execution_count": 7,
   "metadata": {},
   "outputs": [
    {
     "name": "stdout",
     "output_type": "stream",
     "text": [
      "{'uc': 0, 'ec': 0, 'mec': 1, 'fpp': 1, 's': 3, 'n': 'NHL $1 5-Player', 'attr': {'League': 'true'}, 'nt': 3, 'm': 5, 'a': 1, 'po': 4.5, 'pd': {'Cash': '4.5'}, 'tix': False, 'sdstring': 'Fri 7:00PM', 'sd': '/Date(1513987200000)/', 'id': 51558316, 'tmpl': 243920, 'pt': 1, 'so': 3265000, 'fwt': False, 'isOwner': False, 'startTimeType': 0, 'dg': 16962, 'ulc': 0, 'cs': 1, 'gameType': 'Classic', 'ssd': None, 'dgpo': 395417.0, 'cso': 3343, 'ir': 0, 'rl': False, 'rlc': 0, 'rll': 1, 'sa': True}\n",
      "Draft Group: 16962\n"
     ]
    }
   ],
   "source": [
    "found = False\n",
    "for contest in data['Contests']:\n",
    "    if not found:\n",
    "        dict = contest['pd']\n",
    "        #print (dict)\n",
    "        for key in dict:\n",
    "            val = dict.get('Cash')\n",
    "            try:\n",
    "                if float(val) == 4.5 and contest['gameType'] == \"Classic\":\n",
    "                    if red_eye:\n",
    "                        if re.match(\".*Red\\sEye.*\", contest['n']):\n",
    "                            print (contest)\n",
    "                            print (\"Draft Group: \" + str(contest['dg']))\n",
    "                            draftGroup = contest['dg']\n",
    "                            found = True\n",
    "                    else:\n",
    "                        print (contest)\n",
    "                        print (\"Draft Group: \" + str(contest['dg']))\n",
    "                        draftGroup = contest['dg']\n",
    "                        found = True\n",
    "            except:\n",
    "                pass"
   ]
  },
  {
   "cell_type": "code",
   "execution_count": 13,
   "metadata": {},
   "outputs": [
    {
     "name": "stdout",
     "output_type": "stream",
     "text": [
      "https://api.draftkings.com/draftgroups/v1/draftgroups/16962/draftables?format=json\n"
     ]
    }
   ],
   "source": [
    "print (draft_group_url + str(draftGroup) + draft_tables_suffix)\n",
    "response = requests.get(draft_group_url + str(draftGroup) + draft_tables_suffix)"
   ]
  },
  {
   "cell_type": "code",
   "execution_count": 14,
   "metadata": {
    "collapsed": true
   },
   "outputs": [],
   "source": [
    "players = json.loads(response.text)"
   ]
  },
  {
   "cell_type": "code",
   "execution_count": 30,
   "metadata": {
    "collapsed": true
   },
   "outputs": [],
   "source": [
    "player_dict = ()\n",
    "for player in players['draftables']:\n",
    "    player_dict[player['firstName']+ \" \" + player['lastName']] = player['rosterSlotId']\n",
    "    player_dict[player['firstName']+ \" \" + player['lastName']] = player['position']"
   ]
  },
  {
   "cell_type": "code",
   "execution_count": 98,
   "metadata": {
    "collapsed": true
   },
   "outputs": [],
   "source": [
    "l = []\n",
    "counter = 0\n",
    "for player in players['draftables']:\n",
    "    l.append((player['firstName']+ \" \" + player['lastName'], player['salary'], player['position']))\n",
    "l\n",
    "\n",
    "import pandas as pd\n",
    "salary = pd.DataFrame(l, columns=['name', 'salary', 'position'])\n",
    "salary_dedup = salary.drop_duplicates()\n",
    "salary_dedup.to_excel('salary.xlsx')"
   ]
  },
  {
   "cell_type": "code",
   "execution_count": 31,
   "metadata": {
    "scrolled": true
   },
   "outputs": [
    {
     "data": {
      "text/plain": [
       "[('Jack Eichel', 'C'),\n",
       " ('Vincent Trocheck', 'C'),\n",
       " ('Sean Couturier', 'C'),\n",
       " ('Aleksander Barkov', 'C'),\n",
       " ('Sean Monahan', 'C'),\n",
       " ('Nicklas Backstrom', 'C'),\n",
       " ('Eric Staal', 'C'),\n",
       " ('Evgeny Kuznetsov', 'C'),\n",
       " ('Jonathan Drouin', 'C'),\n",
       " (\"Ryan O'Reilly\", 'C'),\n",
       " ('Mikael Backlund', 'C'),\n",
       " ('Phillip Danault', 'C'),\n",
       " ('Mikko Koivu', 'C'),\n",
       " ('Derek Stepan', 'C'),\n",
       " ('Max Domi', 'C'),\n",
       " ('Valtteri Filppula', 'C'),\n",
       " ('Mark Jankowski', 'C'),\n",
       " ('Lars Eller', 'C'),\n",
       " ('Evan Rodrigues', 'C'),\n",
       " ('Jared McCann', 'C'),\n",
       " ('Tomas Plekanec', 'C'),\n",
       " ('Nolan Patrick', 'C'),\n",
       " ('Christian Dvorak', 'C'),\n",
       " ('Scott Laughton', 'C'),\n",
       " ('Daniel Winnik', 'C'),\n",
       " ('Jay Beagle', 'C'),\n",
       " ('Kyle Criscuolo', 'C'),\n",
       " ('Jacob Josefson', 'C'),\n",
       " ('Derek MacKenzie', 'C'),\n",
       " ('Matt Cullen', 'C'),\n",
       " ('Hunter Shinkaruk', 'C'),\n",
       " ('Byron Froese', 'C'),\n",
       " ('Brad Richardson', 'C'),\n",
       " ('Dylan Strome', 'C'),\n",
       " ('Michael McCarron', 'C'),\n",
       " ('Jacob De La Rose', 'C'),\n",
       " ('Tyler Gaudet', 'C'),\n",
       " ('Mario Kempe', 'C'),\n",
       " ('German Rubtsov', 'C'),\n",
       " ('Chase Balisy', 'C'),\n",
       " ('Curtis Valk', 'C'),\n",
       " ('Mason Shaw', 'C'),\n",
       " ('Matt Stajan', 'C'),\n",
       " ('Nathan Walker', 'C'),\n",
       " ('Sean Malone', 'C'),\n",
       " ('Joseph Cramarossa', 'C'),\n",
       " ('Mike Vecchione', 'C'),\n",
       " ('Jayce Hawryluk', 'C'),\n",
       " ('Maxim Mamin', 'C'),\n",
       " ('Christoph Bertschy', 'C'),\n",
       " ('Mark Simpson', 'C'),\n",
       " ('Dave Bolland', 'C'),\n",
       " ('John Carlson', 'D'),\n",
       " ('Shea Weber', 'D'),\n",
       " ('Shayne Gostisbehere', 'D'),\n",
       " ('Mark Giordano', 'D'),\n",
       " ('Ryan Suter', 'D'),\n",
       " ('Aaron Ekblad', 'D'),\n",
       " ('Ivan Provorov', 'D'),\n",
       " ('Keith Yandle', 'D'),\n",
       " ('Rasmus Ristolainen', 'D'),\n",
       " ('Jared Spurgeon', 'D'),\n",
       " ('Dougie Hamilton', 'D'),\n",
       " ('Oliver Ekman-Larsson', 'D'),\n",
       " ('Matt Dumba', 'D'),\n",
       " ('Matt Niskanen', 'D'),\n",
       " ('Jeff Petry', 'D'),\n",
       " ('T.J. Brodie', 'D'),\n",
       " ('Dmitry Orlov', 'D'),\n",
       " ('Alex Goligoski', 'D'),\n",
       " ('Mike Matheson', 'D'),\n",
       " ('Jordie Benn', 'D'),\n",
       " ('Jakob Chychrun', 'D'),\n",
       " ('Marco Scandella', 'D'),\n",
       " ('David Schlemko', 'D'),\n",
       " ('Jake McCabe', 'D'),\n",
       " ('Andrew MacDonald', 'D'),\n",
       " ('Radko Gudas', 'D'),\n",
       " ('Brandon Manning', 'D'),\n",
       " ('Jonas Brodin', 'D'),\n",
       " ('Ryan Murphy', 'D'),\n",
       " ('Travis Hamonic', 'D'),\n",
       " ('Joe Morrow', 'D'),\n",
       " ('Niklas Hjalmarsson', 'D'),\n",
       " ('Jason Demers', 'D'),\n",
       " ('Zach Bogosian', 'D'),\n",
       " ('Nathan Beaulieu', 'D'),\n",
       " ('Josh Gorges', 'D'),\n",
       " ('Taylor Fedun', 'D'),\n",
       " ('Robert Hagg', 'D'),\n",
       " ('Nate Prosser', 'D'),\n",
       " ('Mike Reilly', 'D'),\n",
       " ('Mark Pysyk', 'D'),\n",
       " ('Michael Stone', 'D'),\n",
       " ('Karl Alzner', 'D'),\n",
       " ('Victor Mete', 'D'),\n",
       " ('Brooks Orpik', 'D'),\n",
       " ('Luke Schenn', 'D'),\n",
       " ('Justin Falk', 'D'),\n",
       " ('Zach Redmond', 'D'),\n",
       " ('Victor Antipin', 'D'),\n",
       " ('Casey Nelson', 'D'),\n",
       " ('Mark Alt', 'D'),\n",
       " ('Travis Sanheim', 'D'),\n",
       " ('Ian McCoshen', 'D'),\n",
       " ('MacKenzie Weegar', 'D'),\n",
       " ('Kyle Quincey', 'D'),\n",
       " ('Gustav Olofsson', 'D'),\n",
       " ('Jakub Jerabek', 'D'),\n",
       " ('Madison Bowey', 'D'),\n",
       " ('Christian Djoos', 'D'),\n",
       " ('Kevin Connauton', 'D'),\n",
       " ('Cody Goloubef', 'D'),\n",
       " ('Matt Tennyson', 'D'),\n",
       " ('T.J. Brennan', 'D'),\n",
       " ('Philippe Myers', 'D'),\n",
       " ('Alexander Petrovic', 'D'),\n",
       " ('Brennan Menell', 'D'),\n",
       " ('Brett Kulak', 'D'),\n",
       " ('Matt Bartkowski', 'D'),\n",
       " ('Eric Gelinas', 'D'),\n",
       " ('Taylor Chorney', 'D'),\n",
       " ('Andrew Campbell', 'D'),\n",
       " ('Joel Hanley', 'D'),\n",
       " ('Samuel Morin', 'D'),\n",
       " ('Michael Downing', 'D'),\n",
       " ('Rasmus Andersson', 'D'),\n",
       " ('Juuso Valimaki', 'D'),\n",
       " ('Ed Wittchow', 'D'),\n",
       " ('Linus Hultstrom', 'D'),\n",
       " ('Tyler Wotherspoon', 'D'),\n",
       " ('Oliver Kylington', 'D'),\n",
       " ('Noah Juulsen', 'D'),\n",
       " ('Brett Lernout', 'D'),\n",
       " ('Tyler Lewington', 'D'),\n",
       " ('Braden Holtby', 'G'),\n",
       " ('Philipp Grubauer', 'G'),\n",
       " ('Michal Neuvirth', 'G'),\n",
       " ('Brian Elliott', 'G'),\n",
       " ('Alex Lyon', 'G'),\n",
       " ('Alex Stalock', 'G'),\n",
       " ('Devan Dubnyk', 'G'),\n",
       " ('Carey Price', 'G'),\n",
       " ('Niklas Svedberg', 'G'),\n",
       " ('Steve Michalek', 'G'),\n",
       " ('Antti Niemi', 'G'),\n",
       " ('Al Montoya', 'G'),\n",
       " ('Mike Smith', 'G'),\n",
       " ('David Rittich', 'G'),\n",
       " ('Eddie Lack', 'G'),\n",
       " ('Robin Lehner', 'G'),\n",
       " ('Roberto Luongo', 'G'),\n",
       " ('James Reimer', 'G'),\n",
       " ('Chad Johnson', 'G'),\n",
       " ('Harri Sateri', 'G'),\n",
       " ('Samuel Montembeault', 'G'),\n",
       " ('Antti Raanta', 'G'),\n",
       " ('Jon Gillies', 'G'),\n",
       " ('Charlie Lindgren', 'G'),\n",
       " ('Sean Maguire', 'G'),\n",
       " ('Scott Wedgewood', 'G'),\n",
       " ('Marek Langhamer', 'G'),\n",
       " ('Adin Hill', 'G'),\n",
       " ('Linus Ullmark', 'G'),\n",
       " ('Pheonix Copley', 'G'),\n",
       " ('Anthony Stolarz', 'G'),\n",
       " ('Dustin Tokarski', 'G'),\n",
       " ('Alex Ovechkin', 'LW'),\n",
       " ('Evander Kane', 'LW'),\n",
       " ('Johnny Gaudreau', 'LW'),\n",
       " ('Claude Giroux', 'LW'),\n",
       " ('Jonathan Huberdeau', 'LW'),\n",
       " ('Max Pacioretty', 'LW'),\n",
       " ('Jason Zucker', 'LW'),\n",
       " ('Nino Niederreiter', 'LW'),\n",
       " ('Alex Galchenyuk', 'LW'),\n",
       " ('Zach Parise', 'LW'),\n",
       " ('Matthew Tkachuk', 'LW'),\n",
       " ('Clayton Keller', 'LW'),\n",
       " ('Jakub Vrana', 'LW'),\n",
       " ('Charles Hudon', 'LW'),\n",
       " ('Sam Bennett', 'LW'),\n",
       " ('Benoit Pouliot', 'LW'),\n",
       " ('Michael Raffl', 'LW'),\n",
       " ('Brett Connolly', 'LW'),\n",
       " ('Brendan Perlini', 'LW'),\n",
       " ('Jordan Weal', 'LW'),\n",
       " ('Joel Eriksson Ek', 'LW'),\n",
       " ('Colton Sceviour', 'LW'),\n",
       " ('Jamie McGinn', 'LW'),\n",
       " ('Kris Versteeg', 'LW'),\n",
       " ('Johan Larsson', 'LW'),\n",
       " ('Henrik Haapala', 'LW'),\n",
       " ('Connor Brickley', 'LW'),\n",
       " ('Marcus Foligno', 'LW'),\n",
       " ('Troy Brouwer', 'LW'),\n",
       " ('Nicolas Deslauriers', 'LW'),\n",
       " ('Jordan Martinook', 'LW'),\n",
       " ('Zemgus Girgensons', 'LW'),\n",
       " ('Nicholas Baptiste', 'LW'),\n",
       " ('Taylor Leier', 'LW'),\n",
       " ('Oskar Lindblom', 'LW'),\n",
       " ('Micheal Haley', 'LW'),\n",
       " ('Josh Archibald', 'LW'),\n",
       " ('Anthony Peluso', 'LW'),\n",
       " ('Chandler Stephenson', 'LW'),\n",
       " ('Jordan Nolan', 'LW'),\n",
       " ('Danick Martel', 'LW'),\n",
       " ('Dryden Hunt', 'LW'),\n",
       " ('Freddie Hamilton', 'LW'),\n",
       " (\"Liam O'Brien\", 'LW'),\n",
       " ('Tyler Graovac', 'LW'),\n",
       " ('Zac Rinaldo', 'LW'),\n",
       " ('Tye McGinn', 'LW'),\n",
       " ('Jori Lehtera', 'LW'),\n",
       " ('Mario Lucia', 'LW'),\n",
       " ('Andrew Mangiapane', 'LW'),\n",
       " ('Morgan Klimchuk', 'LW'),\n",
       " ('Luke Gazdic', 'LW'),\n",
       " ('Jeremiah Addison', 'LW'),\n",
       " ('Hampus Gustafsson', 'LW'),\n",
       " ('Jakub Voracek', 'RW'),\n",
       " ('Wayne Simmonds', 'RW'),\n",
       " ('T.J. Oshie', 'RW'),\n",
       " ('Mikael Granlund', 'RW'),\n",
       " ('Brendan Gallagher', 'RW'),\n",
       " ('Evgenii Dadonov', 'RW'),\n",
       " ('Nick Bjugstad', 'RW'),\n",
       " ('Charlie Coyle', 'RW'),\n",
       " ('Andrew Shaw', 'RW'),\n",
       " ('Tom Wilson', 'RW'),\n",
       " ('Michael Frolik', 'RW'),\n",
       " ('Micheal Ferland', 'RW'),\n",
       " ('Kyle Okposo', 'RW'),\n",
       " ('Artturi Lehkonen', 'RW'),\n",
       " ('Jason Pominville', 'RW'),\n",
       " ('Andre Burakovsky', 'RW'),\n",
       " ('Paul Byron', 'RW'),\n",
       " ('Sam Reinhart', 'RW'),\n",
       " ('Daniel Carr', 'RW'),\n",
       " ('Denis Malgin', 'RW'),\n",
       " ('Radim Vrbata', 'RW'),\n",
       " ('Garnet Hathaway', 'RW'),\n",
       " ('Jaromir Jagr', 'RW'),\n",
       " ('Christian Fischer', 'RW'),\n",
       " ('Anthony Duclair', 'RW'),\n",
       " ('Travis Konecny', 'RW'),\n",
       " ('Tyler Ennis', 'RW'),\n",
       " ('Tobias Rieder', 'RW'),\n",
       " ('Hudson Fasching', 'RW'),\n",
       " ('Dale Weise', 'RW'),\n",
       " ('Justin Bailey', 'RW'),\n",
       " ('Owen Tippett', 'RW'),\n",
       " ('Chris Stewart', 'RW'),\n",
       " ('Zack Mitchell', 'RW'),\n",
       " ('Luke Kunin', 'RW'),\n",
       " ('Travis Boyd', 'RW'),\n",
       " ('Alex Chiasson', 'RW'),\n",
       " ('Devante Smith-Pelly', 'RW'),\n",
       " ('Alexander Nylander', 'RW'),\n",
       " ('Landon Ferraro', 'RW'),\n",
       " ('Curtis Lazar', 'RW'),\n",
       " ('Spencer Foo', 'RW'),\n",
       " ('Nick Cousins', 'RW'),\n",
       " ('Seth Griffith', 'RW'),\n",
       " ('Matt Moulson', 'RW'),\n",
       " ('Ales Hemsky', 'RW'),\n",
       " ('Nikita Scherbak', 'RW'),\n",
       " ('Nicholas Merkley', 'RW'),\n",
       " ('Matt Read', 'RW'),\n",
       " ('Scott Wilson', 'RW'),\n",
       " ('Daniel Pribyl', 'RW'),\n",
       " ('Emerson Etem', 'RW'),\n",
       " ('Alexandre Grenier', 'RW'),\n",
       " ('Juho Lammikko', 'RW'),\n",
       " ('Zach Schroeder', 'RW'),\n",
       " ('Kurtis Gabriel', 'RW'),\n",
       " ('Antoine Waked', 'RW'),\n",
       " ('Riley Barber', 'RW'),\n",
       " ('Mike Sislo', 'RW')]"
      ]
     },
     "execution_count": 31,
     "metadata": {},
     "output_type": "execute_result"
    }
   ],
   "source": [
    "sorted_player_dict = sorted(player_dict.items(), key=operator.itemgetter(1))\n",
    "sorted_player_dict"
   ]
  },
  {
   "cell_type": "code",
   "execution_count": 32,
   "metadata": {
    "scrolled": false
   },
   "outputs": [
    {
     "name": "stdout",
     "output_type": "stream",
     "text": [
      "['Jack Eichel','Vincent Trocheck','Sean Couturier','Aleksander Barkov','Sean Monahan','Nicklas Backstrom','Eric Staal','Evgeny Kuznetsov','Jonathan Drouin','Ryan OReilly','Mikael Backlund','Phillip Danault','Mikko Koivu','Derek Stepan','Max Domi','Valtteri Filppula','Mark Jankowski','Lars Eller','Evan Rodrigues','Jared McCann','Tomas Plekanec','Nolan Patrick','Christian Dvorak','Scott Laughton','Daniel Winnik','Jay Beagle','Kyle Criscuolo','Jacob Josefson','Derek MacKenzie','Matt Cullen','Hunter Shinkaruk','Byron Froese','Brad Richardson','Dylan Strome','Michael McCarron','Jacob De La Rose','Tyler Gaudet','Mario Kempe','German Rubtsov','Chase Balisy','Curtis Valk','Mason Shaw','Matt Stajan','Nathan Walker','Sean Malone','Joseph Cramarossa','Mike Vecchione','Jayce Hawryluk','Maxim Mamin','Christoph Bertschy','Mark Simpson','Dave Bolland'],\n",
      "['John Carlson','Shea Weber','Shayne Gostisbehere','Mark Giordano','Ryan Suter','Aaron Ekblad','Ivan Provorov','Keith Yandle','Rasmus Ristolainen','Jared Spurgeon','Dougie Hamilton','Oliver EkmanLarsson','Matt Dumba','Matt Niskanen','Jeff Petry','TJ Brodie','Dmitry Orlov','Alex Goligoski','Mike Matheson','Jordie Benn','Jakob Chychrun','Marco Scandella','David Schlemko','Jake McCabe','Andrew MacDonald','Radko Gudas','Brandon Manning','Jonas Brodin','Ryan Murphy','Travis Hamonic','Joe Morrow','Niklas Hjalmarsson','Jason Demers','Zach Bogosian','Nathan Beaulieu','Josh Gorges','Taylor Fedun','Robert Hagg','Nate Prosser','Mike Reilly','Mark Pysyk','Michael Stone','Karl Alzner','Victor Mete','Brooks Orpik','Luke Schenn','Justin Falk','Zach Redmond','Victor Antipin','Casey Nelson','Mark Alt','Travis Sanheim','Ian McCoshen','MacKenzie Weegar','Kyle Quincey','Gustav Olofsson','Jakub Jerabek','Madison Bowey','Christian Djoos','Kevin Connauton','Cody Goloubef','Matt Tennyson','TJ Brennan','Philippe Myers','Alexander Petrovic','Brennan Menell','Brett Kulak','Matt Bartkowski','Eric Gelinas','Taylor Chorney','Andrew Campbell','Joel Hanley','Samuel Morin','Michael Downing','Rasmus Andersson','Juuso Valimaki','Ed Wittchow','Linus Hultstrom','Tyler Wotherspoon','Oliver Kylington','Noah Juulsen','Brett Lernout','Tyler Lewington'],\n",
      "['Braden Holtby','Philipp Grubauer','Michal Neuvirth','Brian Elliott','Alex Lyon','Alex Stalock','Devan Dubnyk','Carey Price','Niklas Svedberg','Steve Michalek','Antti Niemi','Al Montoya','Mike Smith','David Rittich','Eddie Lack','Robin Lehner','Roberto Luongo','James Reimer','Chad Johnson','Harri Sateri','Samuel Montembeault','Antti Raanta','Jon Gillies','Charlie Lindgren','Sean Maguire','Scott Wedgewood','Marek Langhamer','Adin Hill','Linus Ullmark','Pheonix Copley','Anthony Stolarz','Dustin Tokarski'],\n",
      "['Alex Ovechkin','Evander Kane','Johnny Gaudreau','Claude Giroux','Jonathan Huberdeau','Max Pacioretty','Jason Zucker','Nino Niederreiter','Alex Galchenyuk','Zach Parise','Matthew Tkachuk','Clayton Keller','Jakub Vrana','Charles Hudon','Sam Bennett','Benoit Pouliot','Michael Raffl','Brett Connolly','Brendan Perlini','Jordan Weal','Joel Eriksson Ek','Colton Sceviour','Jamie McGinn','Kris Versteeg','Johan Larsson','Henrik Haapala','Connor Brickley','Marcus Foligno','Troy Brouwer','Nicolas Deslauriers','Jordan Martinook','Zemgus Girgensons','Nicholas Baptiste','Taylor Leier','Oskar Lindblom','Micheal Haley','Josh Archibald','Anthony Peluso','Chandler Stephenson','Jordan Nolan','Danick Martel','Dryden Hunt','Freddie Hamilton','Liam OBrien','Tyler Graovac','Zac Rinaldo','Tye McGinn','Jori Lehtera','Mario Lucia','Andrew Mangiapane','Morgan Klimchuk','Luke Gazdic','Jeremiah Addison','Hampus Gustafsson'],\n",
      "['Jakub Voracek','Wayne Simmonds','TJ Oshie','Mikael Granlund','Brendan Gallagher','Evgenii Dadonov','Nick Bjugstad','Charlie Coyle','Andrew Shaw','Tom Wilson','Michael Frolik','Micheal Ferland','Kyle Okposo','Artturi Lehkonen','Jason Pominville','Andre Burakovsky','Paul Byron','Sam Reinhart','Daniel Carr','Denis Malgin','Radim Vrbata','Garnet Hathaway','Jaromir Jagr','Christian Fischer','Anthony Duclair','Travis Konecny','Tyler Ennis','Tobias Rieder','Hudson Fasching','Dale Weise','Justin Bailey','Owen Tippett','Chris Stewart','Zack Mitchell','Luke Kunin','Travis Boyd','Alex Chiasson','Devante SmithPelly','Alexander Nylander','Landon Ferraro','Curtis Lazar','Spencer Foo','Nick Cousins','Seth Griffith','Matt Moulson','Ales Hemsky','Nikita Scherbak','Nicholas Merkley','Matt Read','Scott Wilson','Daniel Pribyl','Emerson Etem','Alexandre Grenier','Juho Lammikko','Zach Schroeder','Kurtis Gabriel','Antoine Waked','Riley Barber','Mike Sislo']\n"
     ]
    }
   ],
   "source": [
    "tmp_value = ''\n",
    "string = ''\n",
    "for key, value in sorted_player_dict:\n",
    "    if tmp_value != str(value):\n",
    "        \n",
    "        if string != \"\":\n",
    "            print (string[:-1] + \"],\")\n",
    "        string = \"['\" + fixPlayerName(key) + \"',\"\n",
    "    else:\n",
    "        string = string + \"'\" + fixPlayerName(key) + \"',\"\n",
    "    \n",
    "    tmp_value = str(value)\n",
    "        \n",
    "print (string[:-1]+ \"]\")\n"
   ]
  },
  {
   "cell_type": "code",
   "execution_count": null,
   "metadata": {
    "collapsed": true
   },
   "outputs": [],
   "source": []
  }
 ],
 "metadata": {
  "kernelspec": {
   "display_name": "Python 3",
   "language": "python",
   "name": "python3"
  },
  "language_info": {
   "codemirror_mode": {
    "name": "ipython",
    "version": 3
   },
   "file_extension": ".py",
   "mimetype": "text/x-python",
   "name": "python",
   "nbconvert_exporter": "python",
   "pygments_lexer": "ipython3",
   "version": "3.6.3"
  }
 },
 "nbformat": 4,
 "nbformat_minor": 2
}

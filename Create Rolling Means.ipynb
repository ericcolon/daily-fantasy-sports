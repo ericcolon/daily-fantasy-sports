{
 "cells": [
  {
   "cell_type": "code",
   "execution_count": 1,
   "metadata": {},
   "outputs": [
    {
     "name": "stdout",
     "output_type": "stream",
     "text": [
      "glog.PPG = glog.PPG.map(turn_to_float)\n",
      "PPG = glog['PPG']\n",
      "PPG = (PPG - PPG.mean()) / PPG.std()\n",
      "PPG_rollmean = PPG.rolling(window=rolling_window).mean()\n",
      "rol_means['PPG'] = PPG_rollmean\n",
      "\n",
      "glog.G = glog.G.map(turn_to_float)\n",
      "G = glog['G']\n",
      "G = (G - G.mean()) / G.std()\n",
      "G_rollmean = G.rolling(window=rolling_window).mean()\n",
      "rol_means['G'] = G_rollmean\n",
      "\n",
      "glog.ESP_PG = glog.ESP_PG.map(turn_to_float)\n",
      "ESP_PG = glog['ESP_PG']\n",
      "ESP_PG = (ESP_PG - ESP_PG.mean()) / ESP_PG.std()\n",
      "ESP_PG_rollmean = ESP_PG.rolling(window=rolling_window).mean()\n",
      "rol_means['ESP_PG'] = ESP_PG_rollmean\n",
      "\n",
      "glog.EV_G = glog.EV_G.map(turn_to_float)\n",
      "EV_G = glog['EV_G']\n",
      "EV_G = (EV_G - EV_G.mean()) / EV_G.std()\n",
      "EV_G_rollmean = EV_G.rolling(window=rolling_window).mean()\n",
      "rol_means['EV_G'] = EV_G_rollmean\n",
      "\n",
      "glog.S = glog.S.map(turn_to_float)\n",
      "S = glog['S']\n",
      "S = (S - S.mean()) / S.std()\n",
      "S_rollmean = S.rolling(window=rolling_window).mean()\n",
      "rol_means['S'] = S_rollmean\n",
      "\n",
      "glog.A = glog.A.map(turn_to_float)\n",
      "A = glog['A']\n",
      "A = (A - A.mean()) / A.std()\n",
      "A_rollmean = A.rolling(window=rolling_window).mean()\n",
      "rol_means['A'] = A_rollmean\n",
      "\n"
     ]
    }
   ],
   "source": [
    "#SV_PCT+SA+GA+S\n",
    "features = ['PPG', 'G', 'ESP_PG', 'EV_G', 'S', 'A']\n",
    "for feature in features:\n",
    "    print (f\"glog.{feature} = glog.{feature}.map(turn_to_float)\")\n",
    "    print (f\"{feature} = glog['{feature}']\")\n",
    "    print (f\"{feature} = ({feature} - {feature}.mean()) / {feature}.std()\")\n",
    "    print (f\"{feature}_rollmean = {feature}.rolling(window=rolling_window).mean()\")\n",
    "    print (f\"rol_means['{feature}'] = {feature}_rollmean\")\n",
    "    print ()"
   ]
  },
  {
   "cell_type": "code",
   "execution_count": null,
   "metadata": {
    "collapsed": true
   },
   "outputs": [],
   "source": []
  }
 ],
 "metadata": {
  "kernelspec": {
   "display_name": "Python 3",
   "language": "python",
   "name": "python3"
  },
  "language_info": {
   "codemirror_mode": {
    "name": "ipython",
    "version": 3
   },
   "file_extension": ".py",
   "mimetype": "text/x-python",
   "name": "python",
   "nbconvert_exporter": "python",
   "pygments_lexer": "ipython3",
   "version": "3.6.3"
  }
 },
 "nbformat": 4,
 "nbformat_minor": 2
}

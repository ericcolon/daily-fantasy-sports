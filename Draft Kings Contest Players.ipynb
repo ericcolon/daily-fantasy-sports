{
 "cells": [
  {
   "cell_type": "code",
   "execution_count": 1,
   "metadata": {
    "collapsed": true
   },
   "outputs": [],
   "source": [
    "import requests\n",
    "import json\n",
    "import re\n",
    "import operator"
   ]
  },
  {
   "cell_type": "code",
   "execution_count": 2,
   "metadata": {
    "collapsed": true
   },
   "outputs": [],
   "source": [
    "draft_group_url = 'https://api.draftkings.com/draftgroups/v1/draftgroups/' \n",
    "draft_tables_suffix = '/draftables?format=json'\n",
    "base_url = 'https://www.draftkings.com'\n",
    "contest_suffix = '/lobby/getcontests'\n",
    "get_available_players_suffix = '/lineup/getavailableplayers'\n",
    "BASKETBALL = \"?sport=nba\"\n",
    "HOCKEY = \"?sport=nhl\""
   ]
  },
  {
   "cell_type": "code",
   "execution_count": 13,
   "metadata": {
    "collapsed": true
   },
   "outputs": [],
   "source": [
    "red_eye = False\n",
    "sport = HOCKEY"
   ]
  },
  {
   "cell_type": "code",
   "execution_count": 14,
   "metadata": {
    "collapsed": true
   },
   "outputs": [],
   "source": [
    "def fixPlayerName(name):\n",
    "    return re.sub('([^\\s\\w]|_)+', '', name)"
   ]
  },
  {
   "cell_type": "code",
   "execution_count": 15,
   "metadata": {
    "collapsed": true
   },
   "outputs": [],
   "source": [
    "response = requests.get(base_url + contest_suffix + sport)"
   ]
  },
  {
   "cell_type": "code",
   "execution_count": 16,
   "metadata": {
    "collapsed": true
   },
   "outputs": [],
   "source": [
    "data = json.loads(response.text)"
   ]
  },
  {
   "cell_type": "code",
   "execution_count": 17,
   "metadata": {},
   "outputs": [
    {
     "name": "stdout",
     "output_type": "stream",
     "text": [
      "{'uc': 0, 'ec': 0, 'mec': 1, 'fpp': 1, 's': 3, 'n': 'NHL Pick’Em $1 5-Player', 'attr': {'League': 'true'}, 'nt': 2, 'm': 5, 'a': 1, 'po': 4.5, 'pd': {'Cash': '4.5'}, 'tix': False, 'sdstring': 'Fri 7:30PM', 'sd': '/Date(1513989000000)/', 'id': 51553872, 'tmpl': 4815, 'pt': 1, 'so': 3267300, 'fwt': False, 'isOwner': False, 'startTimeType': 0, 'dg': 16966, 'ulc': 0, 'cs': 1, 'gameType': \"Pick'Em\", 'ssd': None, 'dgpo': 138863.4, 'cso': 3923, 'ir': 0, 'rl': False, 'rlc': 0, 'rll': 1, 'sa': True}\n",
      "Draft Group: 16966\n"
     ]
    }
   ],
   "source": [
    "found = False\n",
    "for contest in data['Contests']:\n",
    "    if not found:\n",
    "        dict = contest['pd']\n",
    "        #print (dict)\n",
    "        for key in dict:\n",
    "            val = dict.get('Cash')\n",
    "            try:\n",
    "                if float(val) == 4.5 and contest['gameType'] == \"Pick'Em\":\n",
    "                    if red_eye:\n",
    "                        if re.match(\".*Red\\sEye.*\", contest['n']):\n",
    "                            print (contest)\n",
    "                            print (\"Draft Group: \" + str(contest['dg']))\n",
    "                            draftGroup = contest['dg']\n",
    "                            found = True\n",
    "                    else:\n",
    "                        print (contest)\n",
    "                        print (\"Draft Group: \" + str(contest['dg']))\n",
    "                        draftGroup = contest['dg']\n",
    "                        found = True\n",
    "            except:\n",
    "                pass"
   ]
  },
  {
   "cell_type": "code",
   "execution_count": 18,
   "metadata": {
    "collapsed": true
   },
   "outputs": [],
   "source": [
    "response = requests.get(draft_group_url + str(draftGroup) + draft_tables_suffix)"
   ]
  },
  {
   "cell_type": "code",
   "execution_count": 19,
   "metadata": {
    "collapsed": true
   },
   "outputs": [],
   "source": [
    "players = json.loads(response.text)"
   ]
  },
  {
   "cell_type": "code",
   "execution_count": 20,
   "metadata": {
    "collapsed": true
   },
   "outputs": [],
   "source": [
    "player_dict = {}\n",
    "for player in players['draftables']:\n",
    "    player_dict[player['firstName']+ \" \" + player['lastName']] = player['rosterSlotId']"
   ]
  },
  {
   "cell_type": "code",
   "execution_count": 21,
   "metadata": {
    "collapsed": true
   },
   "outputs": [],
   "source": [
    "sorted_player_dict = sorted(player_dict.items(), key=operator.itemgetter(1))"
   ]
  },
  {
   "cell_type": "code",
   "execution_count": 22,
   "metadata": {
    "scrolled": true
   },
   "outputs": [
    {
     "name": "stdout",
     "output_type": "stream",
     "text": [
      "['Vincent Trocheck','Jonathan Huberdeau','Johnny Gaudreau','Evgeny Kuznetsov'],\n",
      "['Aleksander Barkov','Eric Staal','Max Pacioretty','John Carlson'],\n",
      "['Jason Zucker','Evgenii Dadonov','Sean Monahan','Nicklas Backstrom'],\n",
      "['Ryan Suter','Jonathan Drouin','Brendan Gallagher','Mikael Backlund','TJ Oshie','Clayton Keller'],\n",
      "['Mikael Granlund','Nino Niederreiter','Nick Bjugstad','Mark Giordano','Alex Galchenyuk','Matthew Tkachuk','Oliver EkmanLarsson'],\n",
      "['Aaron Ekblad','Mikko Koivu','Phillip Danault','Michael Frolik','Micheal Ferland','Derek Stepan','Tom Wilson','Jakub Vrana']\n"
     ]
    }
   ],
   "source": [
    "tmp_value = ''\n",
    "string = ''\n",
    "for key, value in sorted_player_dict:\n",
    "    if tmp_value != str(value):\n",
    "        if string != \"\":\n",
    "            print (string[:-1] + \"],\")\n",
    "        string = \"['\" + fixPlayerName(key) + \"',\"\n",
    "    else:\n",
    "        string = string + \"'\" + fixPlayerName(key) + \"',\"\n",
    "    \n",
    "    tmp_value = str(value)\n",
    "        \n",
    "print (string[:-1]+ \"]\")\n"
   ]
  },
  {
   "cell_type": "code",
   "execution_count": null,
   "metadata": {
    "collapsed": true
   },
   "outputs": [],
   "source": []
  }
 ],
 "metadata": {
  "kernelspec": {
   "display_name": "Python 3",
   "language": "python",
   "name": "python3"
  },
  "language_info": {
   "codemirror_mode": {
    "name": "ipython",
    "version": 3
   },
   "file_extension": ".py",
   "mimetype": "text/x-python",
   "name": "python",
   "nbconvert_exporter": "python",
   "pygments_lexer": "ipython3",
   "version": "3.6.3"
  }
 },
 "nbformat": 4,
 "nbformat_minor": 2
}
